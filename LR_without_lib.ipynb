{
  "cells": [
    {
      "cell_type": "markdown",
      "metadata": {
        "id": "view-in-github",
        "colab_type": "text"
      },
      "source": [
        "<a href=\"https://colab.research.google.com/github/Prateeklk/Logistic-Regression/blob/main/LR_without_lib.ipynb\" target=\"_parent\"><img src=\"https://colab.research.google.com/assets/colab-badge.svg\" alt=\"Open In Colab\"/></a>"
      ]
    },
    {
      "cell_type": "code",
      "execution_count": null,
      "metadata": {
        "id": "tI0LQDEeBGdr"
      },
      "outputs": [],
      "source": [
        "import numpy as np\n",
        "import pandas as pd\n",
        "import matplotlib.pyplot as plt"
      ]
    },
    {
      "cell_type": "code",
      "execution_count": 42,
      "metadata": {
        "id": "DtE53DlqBdI0"
      },
      "outputs": [],
      "source": [
        "dataset = [{\"Age\" : 25, 'Salary': 40},\n",
        "           {\"Age\" : 27, 'Salary': 46},\n",
        "           {\"Age\" : 29, 'Salary': 48},\n",
        "           {\"Age\" : 30, 'Salary': 51},\n",
        "           {\"Age\" : 32, 'Salary': 52},\n",
        "           {\"Age\" : 35, 'Salary': 58},\n",
        "           {\"Age\" : 36, 'Salary': 59},\n",
        "           {\"Age\" : 39, 'Salary': 64}]"
      ]
    },
    {
      "cell_type": "code",
      "execution_count": 43,
      "metadata": {
        "colab": {
          "base_uri": "https://localhost:8080/"
        },
        "id": "r7Z1Hc4LCJaC",
        "outputId": "06e1d337-b155-4dbf-c8a2-15a0e8917966"
      },
      "outputs": [
        {
          "output_type": "execute_result",
          "data": {
            "text/plain": [
              "[{'Age': 25, 'Salary': 40},\n",
              " {'Age': 27, 'Salary': 46},\n",
              " {'Age': 29, 'Salary': 48},\n",
              " {'Age': 30, 'Salary': 51},\n",
              " {'Age': 32, 'Salary': 52},\n",
              " {'Age': 35, 'Salary': 58},\n",
              " {'Age': 36, 'Salary': 59},\n",
              " {'Age': 39, 'Salary': 64}]"
            ]
          },
          "metadata": {},
          "execution_count": 43
        }
      ],
      "source": [
        "dataset"
      ]
    },
    {
      "cell_type": "code",
      "execution_count": 44,
      "metadata": {
        "id": "KWixub2UCNvi"
      },
      "outputs": [],
      "source": [
        "df = pd.DataFrame(dataset)"
      ]
    },
    {
      "cell_type": "code",
      "execution_count": 45,
      "metadata": {
        "id": "ZSfgamqsCR_l"
      },
      "outputs": [],
      "source": [
        "X = df.Age\n",
        "y = df.Salary"
      ]
    },
    {
      "cell_type": "code",
      "source": [
        "X_mean = X.mean()\n",
        "y_mean = y.mean()"
      ],
      "metadata": {
        "id": "OwMULpckCvBV"
      },
      "execution_count": 46,
      "outputs": []
    },
    {
      "cell_type": "code",
      "source": [
        "X_mean, y_mean"
      ],
      "metadata": {
        "id": "GYJl2OGTGMm-",
        "outputId": "b301baf5-064c-457f-89cf-ea8f442b90a7",
        "colab": {
          "base_uri": "https://localhost:8080/"
        }
      },
      "execution_count": 47,
      "outputs": [
        {
          "output_type": "execute_result",
          "data": {
            "text/plain": [
              "(31.625, 52.25)"
            ]
          },
          "metadata": {},
          "execution_count": 47
        }
      ]
    },
    {
      "cell_type": "code",
      "source": [
        "df['X_diff'] = X_mean - X"
      ],
      "metadata": {
        "id": "kwxAlYeBC_7R"
      },
      "execution_count": 48,
      "outputs": []
    },
    {
      "cell_type": "code",
      "source": [
        "df['y_diff'] =  y_mean - y"
      ],
      "metadata": {
        "id": "bNe5_7pvDTjJ"
      },
      "execution_count": 49,
      "outputs": []
    },
    {
      "cell_type": "code",
      "source": [
        "df['X_diff_sqr'] = df.X_diff ** 2"
      ],
      "metadata": {
        "id": "R-wTNCmoDYXs"
      },
      "execution_count": 50,
      "outputs": []
    },
    {
      "cell_type": "code",
      "source": [
        "(df.X_diff * df.y_diff).sum()"
      ],
      "metadata": {
        "id": "9-TxEI1FEho1",
        "outputId": "113b8fb1-826c-440b-90f9-bd4518f61aaf",
        "colab": {
          "base_uri": "https://localhost:8080/"
        }
      },
      "execution_count": 51,
      "outputs": [
        {
          "output_type": "execute_result",
          "data": {
            "text/plain": [
              "258.75"
            ]
          },
          "metadata": {},
          "execution_count": 51
        }
      ]
    },
    {
      "cell_type": "code",
      "source": [
        "sum(df.X_diff * df.y_diff)"
      ],
      "metadata": {
        "id": "7BG4INv8JDRq",
        "outputId": "a901f25c-596c-47b4-9ee1-c296cbdf219e",
        "colab": {
          "base_uri": "https://localhost:8080/"
        }
      },
      "execution_count": 69,
      "outputs": [
        {
          "output_type": "execute_result",
          "data": {
            "text/plain": [
              "258.75"
            ]
          },
          "metadata": {},
          "execution_count": 69
        }
      ]
    },
    {
      "cell_type": "code",
      "source": [
        "m = (df.X_diff * df.y_diff).sum() / df.X_diff_sqr.sum()"
      ],
      "metadata": {
        "id": "f1h1y92RDmp1"
      },
      "execution_count": 52,
      "outputs": []
    },
    {
      "cell_type": "code",
      "source": [
        "m"
      ],
      "metadata": {
        "id": "OJPUZgWLECH3",
        "outputId": "43d39fdf-ab6c-4933-9a83-0f76b2f5dcd5",
        "colab": {
          "base_uri": "https://localhost:8080/"
        }
      },
      "execution_count": 53,
      "outputs": [
        {
          "output_type": "execute_result",
          "data": {
            "text/plain": [
              "1.6184519155590305"
            ]
          },
          "metadata": {},
          "execution_count": 53
        }
      ]
    },
    {
      "cell_type": "code",
      "source": [
        "df"
      ],
      "metadata": {
        "id": "MvX-vIs2EOZ1",
        "outputId": "83636fed-1b78-4244-adbf-b81e3ba55794",
        "colab": {
          "base_uri": "https://localhost:8080/",
          "height": 300
        }
      },
      "execution_count": 54,
      "outputs": [
        {
          "output_type": "execute_result",
          "data": {
            "text/plain": [
              "   Age  Salary  X_diff  y_diff  X_diff_sqr\n",
              "0   25      40   6.625   12.25   43.890625\n",
              "1   27      46   4.625    6.25   21.390625\n",
              "2   29      48   2.625    4.25    6.890625\n",
              "3   30      51   1.625    1.25    2.640625\n",
              "4   32      52  -0.375    0.25    0.140625\n",
              "5   35      58  -3.375   -5.75   11.390625\n",
              "6   36      59  -4.375   -6.75   19.140625\n",
              "7   39      64  -7.375  -11.75   54.390625"
            ],
            "text/html": [
              "\n",
              "  <div id=\"df-093a06fb-b3e5-404a-8197-a897208908fe\" class=\"colab-df-container\">\n",
              "    <div>\n",
              "<style scoped>\n",
              "    .dataframe tbody tr th:only-of-type {\n",
              "        vertical-align: middle;\n",
              "    }\n",
              "\n",
              "    .dataframe tbody tr th {\n",
              "        vertical-align: top;\n",
              "    }\n",
              "\n",
              "    .dataframe thead th {\n",
              "        text-align: right;\n",
              "    }\n",
              "</style>\n",
              "<table border=\"1\" class=\"dataframe\">\n",
              "  <thead>\n",
              "    <tr style=\"text-align: right;\">\n",
              "      <th></th>\n",
              "      <th>Age</th>\n",
              "      <th>Salary</th>\n",
              "      <th>X_diff</th>\n",
              "      <th>y_diff</th>\n",
              "      <th>X_diff_sqr</th>\n",
              "    </tr>\n",
              "  </thead>\n",
              "  <tbody>\n",
              "    <tr>\n",
              "      <th>0</th>\n",
              "      <td>25</td>\n",
              "      <td>40</td>\n",
              "      <td>6.625</td>\n",
              "      <td>12.25</td>\n",
              "      <td>43.890625</td>\n",
              "    </tr>\n",
              "    <tr>\n",
              "      <th>1</th>\n",
              "      <td>27</td>\n",
              "      <td>46</td>\n",
              "      <td>4.625</td>\n",
              "      <td>6.25</td>\n",
              "      <td>21.390625</td>\n",
              "    </tr>\n",
              "    <tr>\n",
              "      <th>2</th>\n",
              "      <td>29</td>\n",
              "      <td>48</td>\n",
              "      <td>2.625</td>\n",
              "      <td>4.25</td>\n",
              "      <td>6.890625</td>\n",
              "    </tr>\n",
              "    <tr>\n",
              "      <th>3</th>\n",
              "      <td>30</td>\n",
              "      <td>51</td>\n",
              "      <td>1.625</td>\n",
              "      <td>1.25</td>\n",
              "      <td>2.640625</td>\n",
              "    </tr>\n",
              "    <tr>\n",
              "      <th>4</th>\n",
              "      <td>32</td>\n",
              "      <td>52</td>\n",
              "      <td>-0.375</td>\n",
              "      <td>0.25</td>\n",
              "      <td>0.140625</td>\n",
              "    </tr>\n",
              "    <tr>\n",
              "      <th>5</th>\n",
              "      <td>35</td>\n",
              "      <td>58</td>\n",
              "      <td>-3.375</td>\n",
              "      <td>-5.75</td>\n",
              "      <td>11.390625</td>\n",
              "    </tr>\n",
              "    <tr>\n",
              "      <th>6</th>\n",
              "      <td>36</td>\n",
              "      <td>59</td>\n",
              "      <td>-4.375</td>\n",
              "      <td>-6.75</td>\n",
              "      <td>19.140625</td>\n",
              "    </tr>\n",
              "    <tr>\n",
              "      <th>7</th>\n",
              "      <td>39</td>\n",
              "      <td>64</td>\n",
              "      <td>-7.375</td>\n",
              "      <td>-11.75</td>\n",
              "      <td>54.390625</td>\n",
              "    </tr>\n",
              "  </tbody>\n",
              "</table>\n",
              "</div>\n",
              "    <div class=\"colab-df-buttons\">\n",
              "\n",
              "  <div class=\"colab-df-container\">\n",
              "    <button class=\"colab-df-convert\" onclick=\"convertToInteractive('df-093a06fb-b3e5-404a-8197-a897208908fe')\"\n",
              "            title=\"Convert this dataframe to an interactive table.\"\n",
              "            style=\"display:none;\">\n",
              "\n",
              "  <svg xmlns=\"http://www.w3.org/2000/svg\" height=\"24px\" viewBox=\"0 -960 960 960\">\n",
              "    <path d=\"M120-120v-720h720v720H120Zm60-500h600v-160H180v160Zm220 220h160v-160H400v160Zm0 220h160v-160H400v160ZM180-400h160v-160H180v160Zm440 0h160v-160H620v160ZM180-180h160v-160H180v160Zm440 0h160v-160H620v160Z\"/>\n",
              "  </svg>\n",
              "    </button>\n",
              "\n",
              "  <style>\n",
              "    .colab-df-container {\n",
              "      display:flex;\n",
              "      gap: 12px;\n",
              "    }\n",
              "\n",
              "    .colab-df-convert {\n",
              "      background-color: #E8F0FE;\n",
              "      border: none;\n",
              "      border-radius: 50%;\n",
              "      cursor: pointer;\n",
              "      display: none;\n",
              "      fill: #1967D2;\n",
              "      height: 32px;\n",
              "      padding: 0 0 0 0;\n",
              "      width: 32px;\n",
              "    }\n",
              "\n",
              "    .colab-df-convert:hover {\n",
              "      background-color: #E2EBFA;\n",
              "      box-shadow: 0px 1px 2px rgba(60, 64, 67, 0.3), 0px 1px 3px 1px rgba(60, 64, 67, 0.15);\n",
              "      fill: #174EA6;\n",
              "    }\n",
              "\n",
              "    .colab-df-buttons div {\n",
              "      margin-bottom: 4px;\n",
              "    }\n",
              "\n",
              "    [theme=dark] .colab-df-convert {\n",
              "      background-color: #3B4455;\n",
              "      fill: #D2E3FC;\n",
              "    }\n",
              "\n",
              "    [theme=dark] .colab-df-convert:hover {\n",
              "      background-color: #434B5C;\n",
              "      box-shadow: 0px 1px 3px 1px rgba(0, 0, 0, 0.15);\n",
              "      filter: drop-shadow(0px 1px 2px rgba(0, 0, 0, 0.3));\n",
              "      fill: #FFFFFF;\n",
              "    }\n",
              "  </style>\n",
              "\n",
              "    <script>\n",
              "      const buttonEl =\n",
              "        document.querySelector('#df-093a06fb-b3e5-404a-8197-a897208908fe button.colab-df-convert');\n",
              "      buttonEl.style.display =\n",
              "        google.colab.kernel.accessAllowed ? 'block' : 'none';\n",
              "\n",
              "      async function convertToInteractive(key) {\n",
              "        const element = document.querySelector('#df-093a06fb-b3e5-404a-8197-a897208908fe');\n",
              "        const dataTable =\n",
              "          await google.colab.kernel.invokeFunction('convertToInteractive',\n",
              "                                                    [key], {});\n",
              "        if (!dataTable) return;\n",
              "\n",
              "        const docLinkHtml = 'Like what you see? Visit the ' +\n",
              "          '<a target=\"_blank\" href=https://colab.research.google.com/notebooks/data_table.ipynb>data table notebook</a>'\n",
              "          + ' to learn more about interactive tables.';\n",
              "        element.innerHTML = '';\n",
              "        dataTable['output_type'] = 'display_data';\n",
              "        await google.colab.output.renderOutput(dataTable, element);\n",
              "        const docLink = document.createElement('div');\n",
              "        docLink.innerHTML = docLinkHtml;\n",
              "        element.appendChild(docLink);\n",
              "      }\n",
              "    </script>\n",
              "  </div>\n",
              "\n",
              "\n",
              "<div id=\"df-16a3b06f-5dea-44aa-8ff1-abfb077a5f88\">\n",
              "  <button class=\"colab-df-quickchart\" onclick=\"quickchart('df-16a3b06f-5dea-44aa-8ff1-abfb077a5f88')\"\n",
              "            title=\"Suggest charts\"\n",
              "            style=\"display:none;\">\n",
              "\n",
              "<svg xmlns=\"http://www.w3.org/2000/svg\" height=\"24px\"viewBox=\"0 0 24 24\"\n",
              "     width=\"24px\">\n",
              "    <g>\n",
              "        <path d=\"M19 3H5c-1.1 0-2 .9-2 2v14c0 1.1.9 2 2 2h14c1.1 0 2-.9 2-2V5c0-1.1-.9-2-2-2zM9 17H7v-7h2v7zm4 0h-2V7h2v10zm4 0h-2v-4h2v4z\"/>\n",
              "    </g>\n",
              "</svg>\n",
              "  </button>\n",
              "\n",
              "<style>\n",
              "  .colab-df-quickchart {\n",
              "      --bg-color: #E8F0FE;\n",
              "      --fill-color: #1967D2;\n",
              "      --hover-bg-color: #E2EBFA;\n",
              "      --hover-fill-color: #174EA6;\n",
              "      --disabled-fill-color: #AAA;\n",
              "      --disabled-bg-color: #DDD;\n",
              "  }\n",
              "\n",
              "  [theme=dark] .colab-df-quickchart {\n",
              "      --bg-color: #3B4455;\n",
              "      --fill-color: #D2E3FC;\n",
              "      --hover-bg-color: #434B5C;\n",
              "      --hover-fill-color: #FFFFFF;\n",
              "      --disabled-bg-color: #3B4455;\n",
              "      --disabled-fill-color: #666;\n",
              "  }\n",
              "\n",
              "  .colab-df-quickchart {\n",
              "    background-color: var(--bg-color);\n",
              "    border: none;\n",
              "    border-radius: 50%;\n",
              "    cursor: pointer;\n",
              "    display: none;\n",
              "    fill: var(--fill-color);\n",
              "    height: 32px;\n",
              "    padding: 0;\n",
              "    width: 32px;\n",
              "  }\n",
              "\n",
              "  .colab-df-quickchart:hover {\n",
              "    background-color: var(--hover-bg-color);\n",
              "    box-shadow: 0 1px 2px rgba(60, 64, 67, 0.3), 0 1px 3px 1px rgba(60, 64, 67, 0.15);\n",
              "    fill: var(--button-hover-fill-color);\n",
              "  }\n",
              "\n",
              "  .colab-df-quickchart-complete:disabled,\n",
              "  .colab-df-quickchart-complete:disabled:hover {\n",
              "    background-color: var(--disabled-bg-color);\n",
              "    fill: var(--disabled-fill-color);\n",
              "    box-shadow: none;\n",
              "  }\n",
              "\n",
              "  .colab-df-spinner {\n",
              "    border: 2px solid var(--fill-color);\n",
              "    border-color: transparent;\n",
              "    border-bottom-color: var(--fill-color);\n",
              "    animation:\n",
              "      spin 1s steps(1) infinite;\n",
              "  }\n",
              "\n",
              "  @keyframes spin {\n",
              "    0% {\n",
              "      border-color: transparent;\n",
              "      border-bottom-color: var(--fill-color);\n",
              "      border-left-color: var(--fill-color);\n",
              "    }\n",
              "    20% {\n",
              "      border-color: transparent;\n",
              "      border-left-color: var(--fill-color);\n",
              "      border-top-color: var(--fill-color);\n",
              "    }\n",
              "    30% {\n",
              "      border-color: transparent;\n",
              "      border-left-color: var(--fill-color);\n",
              "      border-top-color: var(--fill-color);\n",
              "      border-right-color: var(--fill-color);\n",
              "    }\n",
              "    40% {\n",
              "      border-color: transparent;\n",
              "      border-right-color: var(--fill-color);\n",
              "      border-top-color: var(--fill-color);\n",
              "    }\n",
              "    60% {\n",
              "      border-color: transparent;\n",
              "      border-right-color: var(--fill-color);\n",
              "    }\n",
              "    80% {\n",
              "      border-color: transparent;\n",
              "      border-right-color: var(--fill-color);\n",
              "      border-bottom-color: var(--fill-color);\n",
              "    }\n",
              "    90% {\n",
              "      border-color: transparent;\n",
              "      border-bottom-color: var(--fill-color);\n",
              "    }\n",
              "  }\n",
              "</style>\n",
              "\n",
              "  <script>\n",
              "    async function quickchart(key) {\n",
              "      const quickchartButtonEl =\n",
              "        document.querySelector('#' + key + ' button');\n",
              "      quickchartButtonEl.disabled = true;  // To prevent multiple clicks.\n",
              "      quickchartButtonEl.classList.add('colab-df-spinner');\n",
              "      try {\n",
              "        const charts = await google.colab.kernel.invokeFunction(\n",
              "            'suggestCharts', [key], {});\n",
              "      } catch (error) {\n",
              "        console.error('Error during call to suggestCharts:', error);\n",
              "      }\n",
              "      quickchartButtonEl.classList.remove('colab-df-spinner');\n",
              "      quickchartButtonEl.classList.add('colab-df-quickchart-complete');\n",
              "    }\n",
              "    (() => {\n",
              "      let quickchartButtonEl =\n",
              "        document.querySelector('#df-16a3b06f-5dea-44aa-8ff1-abfb077a5f88 button');\n",
              "      quickchartButtonEl.style.display =\n",
              "        google.colab.kernel.accessAllowed ? 'block' : 'none';\n",
              "    })();\n",
              "  </script>\n",
              "</div>\n",
              "\n",
              "  <div id=\"id_31c5bf93-201c-4f23-9a41-674fa43a78e6\">\n",
              "    <style>\n",
              "      .colab-df-generate {\n",
              "        background-color: #E8F0FE;\n",
              "        border: none;\n",
              "        border-radius: 50%;\n",
              "        cursor: pointer;\n",
              "        display: none;\n",
              "        fill: #1967D2;\n",
              "        height: 32px;\n",
              "        padding: 0 0 0 0;\n",
              "        width: 32px;\n",
              "      }\n",
              "\n",
              "      .colab-df-generate:hover {\n",
              "        background-color: #E2EBFA;\n",
              "        box-shadow: 0px 1px 2px rgba(60, 64, 67, 0.3), 0px 1px 3px 1px rgba(60, 64, 67, 0.15);\n",
              "        fill: #174EA6;\n",
              "      }\n",
              "\n",
              "      [theme=dark] .colab-df-generate {\n",
              "        background-color: #3B4455;\n",
              "        fill: #D2E3FC;\n",
              "      }\n",
              "\n",
              "      [theme=dark] .colab-df-generate:hover {\n",
              "        background-color: #434B5C;\n",
              "        box-shadow: 0px 1px 3px 1px rgba(0, 0, 0, 0.15);\n",
              "        filter: drop-shadow(0px 1px 2px rgba(0, 0, 0, 0.3));\n",
              "        fill: #FFFFFF;\n",
              "      }\n",
              "    </style>\n",
              "    <button class=\"colab-df-generate\" onclick=\"generateWithVariable('df')\"\n",
              "            title=\"Generate code using this dataframe.\"\n",
              "            style=\"display:none;\">\n",
              "\n",
              "  <svg xmlns=\"http://www.w3.org/2000/svg\" height=\"24px\"viewBox=\"0 0 24 24\"\n",
              "       width=\"24px\">\n",
              "    <path d=\"M7,19H8.4L18.45,9,17,7.55,7,17.6ZM5,21V16.75L18.45,3.32a2,2,0,0,1,2.83,0l1.4,1.43a1.91,1.91,0,0,1,.58,1.4,1.91,1.91,0,0,1-.58,1.4L9.25,21ZM18.45,9,17,7.55Zm-12,3A5.31,5.31,0,0,0,4.9,8.1,5.31,5.31,0,0,0,1,6.5,5.31,5.31,0,0,0,4.9,4.9,5.31,5.31,0,0,0,6.5,1,5.31,5.31,0,0,0,8.1,4.9,5.31,5.31,0,0,0,12,6.5,5.46,5.46,0,0,0,6.5,12Z\"/>\n",
              "  </svg>\n",
              "    </button>\n",
              "    <script>\n",
              "      (() => {\n",
              "      const buttonEl =\n",
              "        document.querySelector('#id_31c5bf93-201c-4f23-9a41-674fa43a78e6 button.colab-df-generate');\n",
              "      buttonEl.style.display =\n",
              "        google.colab.kernel.accessAllowed ? 'block' : 'none';\n",
              "\n",
              "      buttonEl.onclick = () => {\n",
              "        google.colab.notebook.generateWithVariable('df');\n",
              "      }\n",
              "      })();\n",
              "    </script>\n",
              "  </div>\n",
              "\n",
              "    </div>\n",
              "  </div>\n"
            ],
            "application/vnd.google.colaboratory.intrinsic+json": {
              "type": "dataframe",
              "variable_name": "df",
              "summary": "{\n  \"name\": \"df\",\n  \"rows\": 8,\n  \"fields\": [\n    {\n      \"column\": \"Age\",\n      \"properties\": {\n        \"dtype\": \"number\",\n        \"std\": 4,\n        \"min\": 25,\n        \"max\": 39,\n        \"num_unique_values\": 8,\n        \"samples\": [\n          27,\n          35,\n          25\n        ],\n        \"semantic_type\": \"\",\n        \"description\": \"\"\n      }\n    },\n    {\n      \"column\": \"Salary\",\n      \"properties\": {\n        \"dtype\": \"number\",\n        \"std\": 7,\n        \"min\": 40,\n        \"max\": 64,\n        \"num_unique_values\": 8,\n        \"samples\": [\n          46,\n          58,\n          40\n        ],\n        \"semantic_type\": \"\",\n        \"description\": \"\"\n      }\n    },\n    {\n      \"column\": \"X_diff\",\n      \"properties\": {\n        \"dtype\": \"number\",\n        \"std\": 4.779046527738113,\n        \"min\": -7.375,\n        \"max\": 6.625,\n        \"num_unique_values\": 8,\n        \"samples\": [\n          4.625,\n          -3.375,\n          6.625\n        ],\n        \"semantic_type\": \"\",\n        \"description\": \"\"\n      }\n    },\n    {\n      \"column\": \"y_diff\",\n      \"properties\": {\n        \"dtype\": \"number\",\n        \"std\": 7.796519369931321,\n        \"min\": -11.75,\n        \"max\": 12.25,\n        \"num_unique_values\": 8,\n        \"samples\": [\n          6.25,\n          -5.75,\n          12.25\n        ],\n        \"semantic_type\": \"\",\n        \"description\": \"\"\n      }\n    },\n    {\n      \"column\": \"X_diff_sqr\",\n      \"properties\": {\n        \"dtype\": \"number\",\n        \"std\": 19.631851624701266,\n        \"min\": 0.140625,\n        \"max\": 54.390625,\n        \"num_unique_values\": 8,\n        \"samples\": [\n          21.390625,\n          11.390625,\n          43.890625\n        ],\n        \"semantic_type\": \"\",\n        \"description\": \"\"\n      }\n    }\n  ]\n}"
            }
          },
          "metadata": {},
          "execution_count": 54
        }
      ]
    },
    {
      "cell_type": "code",
      "source": [
        " # y = mx + b\n",
        " # b = y - mx\n",
        "\n",
        " b = y_mean - m * X_mean"
      ],
      "metadata": {
        "id": "NWH_5ywoER09"
      },
      "execution_count": 55,
      "outputs": []
    },
    {
      "cell_type": "code",
      "source": [
        "b"
      ],
      "metadata": {
        "id": "7X3vaTIWFtyf",
        "outputId": "84cf90f8-5852-49c1-8115-d425ec3428bf",
        "colab": {
          "base_uri": "https://localhost:8080/"
        }
      },
      "execution_count": 56,
      "outputs": [
        {
          "output_type": "execute_result",
          "data": {
            "text/plain": [
              "1.0664581704456637"
            ]
          },
          "metadata": {},
          "execution_count": 56
        }
      ]
    },
    {
      "cell_type": "code",
      "source": [
        "salary_pred = []\n",
        "for x in df['Age']:\n",
        "  salary_pred.append(m*x + b)"
      ],
      "metadata": {
        "id": "cAJScYNsFvIm"
      },
      "execution_count": 57,
      "outputs": []
    },
    {
      "cell_type": "code",
      "source": [
        "salary_pred"
      ],
      "metadata": {
        "id": "tIf3Hk1XG5WO",
        "outputId": "b512c7e8-e379-48b9-a384-0f13be0898cc",
        "colab": {
          "base_uri": "https://localhost:8080/"
        }
      },
      "execution_count": 58,
      "outputs": [
        {
          "output_type": "execute_result",
          "data": {
            "text/plain": [
              "[41.52775605942143,\n",
              " 44.764659890539484,\n",
              " 48.00156372165755,\n",
              " 49.620015637216575,\n",
              " 52.85691946833464,\n",
              " 57.71227521501173,\n",
              " 59.33072713057076,\n",
              " 64.18608287724786]"
            ]
          },
          "metadata": {},
          "execution_count": 58
        }
      ]
    },
    {
      "cell_type": "code",
      "source": [
        "x_fit = np.linspace(min(X), max(X), 100)  # Create a range of x-values\n",
        "y_fit = m * x_fit + b  # Calculate corresponding y-values\n",
        "\n",
        "# Plot the data and the best fit line\n",
        "plt.scatter(X, y, color='blue', label='Data Points')\n",
        "plt.plot(x_fit, y_fit, color='red', label='Best Fit Line')\n",
        "plt.xlabel('Hours Studied')\n",
        "plt.ylabel('Exam Score')\n",
        "plt.title('Linear Regression')\n",
        "plt.legend()\n",
        "plt.grid(True)\n",
        "plt.show()"
      ],
      "metadata": {
        "id": "SIoV8udbOc3U",
        "outputId": "a4f62119-529a-40ae-f3ec-7ff2ea567082",
        "colab": {
          "base_uri": "https://localhost:8080/",
          "height": 472
        }
      },
      "execution_count": 76,
      "outputs": [
        {
          "output_type": "display_data",
          "data": {
            "text/plain": [
              "<Figure size 640x480 with 1 Axes>"
            ],
            "image/png": "[encoded data removed]"
          },
          "metadata": {}
        }
      ]
    },
    {
      "cell_type": "code",
      "source": [
        "y_pred_diff = []\n",
        "zip_val = zip(df['Salary'], salary_pred)\n",
        "for i,j in zip_val:\n",
        "  y_pred_diff.append((i - j)**2)"
      ],
      "metadata": {
        "id": "aUYNwQtiG7qu"
      },
      "execution_count": 64,
      "outputs": []
    },
    {
      "cell_type": "code",
      "source": [
        "y_pred_diff"
      ],
      "metadata": {
        "id": "pdVU1hvZHxA4",
        "outputId": "201392c1-672d-4725-e361-88d2b45a739d",
        "colab": {
          "base_uri": "https://localhost:8080/"
        }
      },
      "execution_count": 65,
      "outputs": [
        {
          "output_type": "execute_result",
          "data": {
            "text/plain": [
              "[2.3340385770988896,\n",
              " 1.5260651860419199,\n",
              " 2.4452254222816457e-06,\n",
              " 1.9043568415267753,\n",
              " 0.7343109752109189,\n",
              " 0.0827855518965466,\n",
              " 0.10938043489556676,\n",
              " 0.03462683720484048]"
            ]
          },
          "metadata": {},
          "execution_count": 65
        }
      ]
    },
    {
      "cell_type": "code",
      "source": [
        "mse = sum(y_pred_diff)/ len(X)"
      ],
      "metadata": {
        "id": "IzSuyUcvINPI"
      },
      "execution_count": 71,
      "outputs": []
    },
    {
      "cell_type": "code",
      "source": [
        "mse"
      ],
      "metadata": {
        "id": "kZt6mrdUITJP",
        "outputId": "d7fbcc40-5ec1-4fcc-ff02-cede65e4b82d",
        "colab": {
          "base_uri": "https://localhost:8080/"
        }
      },
      "execution_count": 68,
      "outputs": [
        {
          "output_type": "execute_result",
          "data": {
            "text/plain": [
              "0.84069585613761"
            ]
          },
          "metadata": {},
          "execution_count": 68
        }
      ]
    },
    {
      "cell_type": "code",
      "source": [
        "def gradient_decent(X,y,learning_rate,epochs, slope,intercept):\n",
        "  m = slope\n",
        "  b = intercept\n",
        "  n = len(X)\n",
        "\n",
        "  for _ in range(epochs):\n",
        "    y_pred = m * X + b\n",
        "    error = y_pred - y\n",
        "\n",
        "    m_gradient = (2/n) * np.sum(error * X)\n",
        "    b_gradient = (2/n) * np.sum(error)\n",
        "\n",
        "    m = m - learning_rate * m_gradient\n",
        "    b = b - learning_rate * b_gradient\n",
        "\n",
        "  return m, b"
      ],
      "metadata": {
        "id": "QQpHhWRpI9O4"
      },
      "execution_count": 77,
      "outputs": []
    },
    {
      "cell_type": "code",
      "source": [
        "new_m, new_b = gradient_decent(X,y,0.001,10000,m,b )\n",
        "print(\"updated slope : \",new_m)\n",
        "print(\"Updated intercept : \",new_b)"
      ],
      "metadata": {
        "id": "D64tfOakMvVF",
        "outputId": "c73db158-188e-4a99-b459-ce7be1cf0fa5",
        "colab": {
          "base_uri": "https://localhost:8080/"
        }
      },
      "execution_count": 89,
      "outputs": [
        {
          "output_type": "stream",
          "name": "stdout",
          "text": [
            "updated slope :  1.6184519155590307\n",
            "Updated intercept :  1.0664581704456637\n"
          ]
        }
      ]
    },
    {
      "cell_type": "code",
      "source": [
        "x_fit = np.linspace(min(X), max(X), 100)  # Create a range of x-values\n",
        "y_fit = new_m * x_fit + new_b  # Calculate corresponding y-values\n",
        "\n",
        "# Plot the data and the best fit line\n",
        "plt.scatter(X, y, color='blue', label='Data Points')\n",
        "plt.plot(x_fit, y_fit, color='red', label='Best Fit Line')\n",
        "plt.xlabel('Hours Studied')\n",
        "plt.ylabel('Exam Score')\n",
        "plt.title('Linear Regression with Gradient Descent')\n",
        "plt.legend()\n",
        "plt.grid(True)\n",
        "plt.show()"
      ],
      "metadata": {
        "id": "cbWND1EONW3s",
        "outputId": "05f14179-6463-4b0d-c0c8-2ba96e2c2bed",
        "colab": {
          "base_uri": "https://localhost:8080/",
          "height": 472
        }
      },
      "execution_count": 82,
      "outputs": [
        {
          "output_type": "display_data",
          "data": {
            "text/plain": [
              "<Figure size 640x480 with 1 Axes>"
            ],
            "image/png": "[encoded data removed]"
          },
          "metadata": {}
        }
      ]
    },
    {
      "cell_type": "code",
      "source": [
        "salary_pred_g = []\n",
        "for x in df['Age']:\n",
        "  salary_pred_g.append(new_m*x + new_b)"
      ],
      "metadata": {
        "id": "9O1ByF09OMhL"
      },
      "execution_count": 83,
      "outputs": []
    },
    {
      "cell_type": "code",
      "source": [
        "y_pred_diff_g = []\n",
        "zip_val = zip(df['Salary'], salary_pred)\n",
        "for i,j in zip_val:\n",
        "  y_pred_diff_g.append((i - j)**2)"
      ],
      "metadata": {
        "id": "vc7W4tL8Pacg"
      },
      "execution_count": 84,
      "outputs": []
    },
    {
      "cell_type": "code",
      "source": [
        "mse_g = sum(y_pred_diff_g)/ len(X)"
      ],
      "metadata": {
        "id": "5xWIo4e1PmfX"
      },
      "execution_count": 86,
      "outputs": []
    },
    {
      "cell_type": "code",
      "source": [
        "mse_g"
      ],
      "metadata": {
        "id": "0kQMUREkPrGP",
        "outputId": "06a144e5-a109-4a43-96a5-481c28637d3a",
        "colab": {
          "base_uri": "https://localhost:8080/"
        }
      },
      "execution_count": 87,
      "outputs": [
        {
          "output_type": "execute_result",
          "data": {
            "text/plain": [
              "0.84069585613761"
            ]
          },
          "metadata": {},
          "execution_count": 87
        }
      ]
    },
    {
      "cell_type": "code",
      "source": [],
      "metadata": {
        "id": "szXJzwWTPuOW"
      },
      "execution_count": null,
      "outputs": []
    }
  ],
  "metadata": {
    "colab": {
      "provenance": [],
      "authorship_tag": "ABX9TyMLsO2Sw1O3p2BvZwNQLfMe",
      "include_colab_link": true
    },
    "kernelspec": {
      "display_name": "Python 3",
      "name": "python3"
    },
    "language_info": {
      "name": "python"
    }
  },
  "nbformat": 4,
  "nbformat_minor": 0
}